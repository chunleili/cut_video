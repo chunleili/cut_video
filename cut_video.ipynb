{
 "cells": [
  {
   "cell_type": "code",
   "execution_count": null,
   "metadata": {},
   "outputs": [],
   "source": [
    "from moviepy.editor import * \n",
    "import json"
   ]
  },
  {
   "cell_type": "code",
   "execution_count": null,
   "metadata": {},
   "outputs": [],
   "source": [
    "# 设定要去掉的时间片段\n",
    "input_file = \"clip_to_erase.json\"\n",
    "erase = None\n",
    "with open(input_file, \"r\") as f:\n",
    "    erase = json.load(f)\n",
    "print(\"Erase these clips: \", erase)"
   ]
  },
  {
   "cell_type": "code",
   "execution_count": null,
   "metadata": {},
   "outputs": [],
   "source": [
    "# 将要去掉时间片段转换为要保留的时间片段\n",
    "def erase_to_keep(full, erase):\n",
    "    flat_list = [item for sublist in erase for item in sublist]\n",
    "    flat_list.insert(0, 0)\n",
    "    flat_list.append(full.duration)\n",
    "    keep = []\n",
    "    for i in range(0, len(flat_list), 2):\n",
    "        keep.append([flat_list[i], flat_list[i+1]])\n",
    "    return keep\n",
    "\n",
    "# 读取视频文件\n",
    "full = VideoFileClip(\"full.mp4\")\n",
    "# 转换为要保留的时间片段\n",
    "keep = erase_to_keep(full, erase)     \n",
    "print(\"Clips to keep:\", keep)  "
   ]
  },
  {
   "cell_type": "code",
   "execution_count": null,
   "metadata": {},
   "outputs": [],
   "source": [
    "# 利用subclip将要保留的时间片段剪切出来\n",
    "def keep_some_clip(full, keep):\n",
    "    clips = []\n",
    "    for i, cut in enumerate(keep):\n",
    "        print(f\"Cutting clip No.{i}, start {cut[0]}, end {cut[1]}\")\n",
    "        clip = full.subclip(cut[0], cut[1])\n",
    "        clips.append(clip)\n",
    "    return clips\n",
    "\n",
    "clips = keep_some_clip(full, keep)\n",
    "final = concatenate_videoclips(clips)\n",
    "final.write_videofile(\"final.mp4\")"
   ]
  }
 ],
 "metadata": {
  "kernelspec": {
   "display_name": "Python 3",
   "language": "python",
   "name": "python3"
  },
  "language_info": {
   "codemirror_mode": {
    "name": "ipython",
    "version": 3
   },
   "file_extension": ".py",
   "mimetype": "text/x-python",
   "name": "python",
   "nbconvert_exporter": "python",
   "pygments_lexer": "ipython3",
   "version": "3.9.12 (main, Apr  4 2022, 05:22:27) [MSC v.1916 64 bit (AMD64)]"
  },
  "orig_nbformat": 4,
  "vscode": {
   "interpreter": {
    "hash": "55326acfe1697d1701ca32abf2039786d2e00979f8284b319fc50c47e4100138"
   }
  }
 },
 "nbformat": 4,
 "nbformat_minor": 2
}
