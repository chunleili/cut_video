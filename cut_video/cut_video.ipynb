{
 "cells": [
  {
   "cell_type": "code",
   "execution_count": 1,
   "metadata": {},
   "outputs": [],
   "source": [
    "from moviepy.editor import * \n",
    "import json"
   ]
  },
  {
   "cell_type": "code",
   "execution_count": 2,
   "metadata": {},
   "outputs": [
    {
     "name": "stdout",
     "output_type": "stream",
     "text": [
      "Erase these clips:  [['0:22', '1:14'], ['1:25', '1:30'], ['2:13', '2:25']]\n"
     ]
    }
   ],
   "source": [
    "# 设定要去掉的时间片段\n",
    "input_file = \"to_erase.json\"\n",
    "erase = None\n",
    "with open(input_file, \"r\") as f:\n",
    "    erase = json.load(f)\n",
    "print(\"Erase these clips: \", erase)"
   ]
  },
  {
   "cell_type": "code",
   "execution_count": 3,
   "metadata": {},
   "outputs": [
    {
     "name": "stdout",
     "output_type": "stream",
     "text": [
      "Clips to keep: [[0, '0:22'], ['1:14', '1:25'], ['1:30', '2:13'], ['2:25', 212.09]]\n"
     ]
    }
   ],
   "source": [
    "# 将要去掉时间片段转换为要保留的时间片段\n",
    "def erase_to_keep(full, erase):\n",
    "    flat_list = [item for sublist in erase for item in sublist]\n",
    "    flat_list.insert(0, 0)\n",
    "    flat_list.append(full.duration)\n",
    "    keep = []\n",
    "    for i in range(0, len(flat_list), 2):\n",
    "        keep.append([flat_list[i], flat_list[i+1]])\n",
    "    return keep\n",
    "\n",
    "# 读取视频文件\n",
    "full = VideoFileClip(\"full.mp4\")\n",
    "# 转换为要保留的时间片段\n",
    "keep = erase_to_keep(full, erase)     \n",
    "print(\"Clips to keep:\", keep)  "
   ]
  },
  {
   "cell_type": "code",
   "execution_count": 4,
   "metadata": {},
   "outputs": [
    {
     "name": "stdout",
     "output_type": "stream",
     "text": [
      "Cutting clip No.0, start 0, end 0:22\n",
      "Cutting clip No.1, start 1:14, end 1:25\n",
      "Cutting clip No.2, start 1:30, end 2:13\n",
      "Cutting clip No.3, start 2:25, end 212.09\n",
      "Moviepy - Building video final.mp4.\n",
      "MoviePy - Writing audio in finalTEMP_MPY_wvf_snd.mp3\n"
     ]
    },
    {
     "name": "stderr",
     "output_type": "stream",
     "text": [
      "                                                                      \r"
     ]
    },
    {
     "name": "stdout",
     "output_type": "stream",
     "text": [
      "MoviePy - Done.\n",
      "Moviepy - Writing video final.mp4\n",
      "\n"
     ]
    },
    {
     "name": "stderr",
     "output_type": "stream",
     "text": [
      "                                                                 \r"
     ]
    },
    {
     "name": "stdout",
     "output_type": "stream",
     "text": [
      "Moviepy - Done !\n",
      "Moviepy - video ready final.mp4\n"
     ]
    }
   ],
   "source": [
    "# 利用subclip将要保留的时间片段剪切出来\n",
    "def keep_some_clip(full, keep):\n",
    "    clips = []\n",
    "    for i, cut in enumerate(keep):\n",
    "        print(f\"Cutting clip No.{i}, start {cut[0]}, end {cut[1]}\")\n",
    "        clip = full.subclip(cut[0], cut[1])\n",
    "        clips.append(clip)\n",
    "    return clips\n",
    "\n",
    "clips = keep_some_clip(full, keep)\n",
    "final = concatenate_videoclips(clips)\n",
    "final.write_videofile(\"final.mp4\")"
   ]
  }
 ],
 "metadata": {
  "kernelspec": {
   "display_name": "Python 3",
   "language": "python",
   "name": "python3"
  },
  "language_info": {
   "codemirror_mode": {
    "name": "ipython",
    "version": 3
   },
   "file_extension": ".py",
   "mimetype": "text/x-python",
   "name": "python",
   "nbconvert_exporter": "python",
   "pygments_lexer": "ipython3",
   "version": "3.9.12 (main, Apr  4 2022, 05:22:27) [MSC v.1916 64 bit (AMD64)]"
  },
  "orig_nbformat": 4,
  "vscode": {
   "interpreter": {
    "hash": "55326acfe1697d1701ca32abf2039786d2e00979f8284b319fc50c47e4100138"
   }
  }
 },
 "nbformat": 4,
 "nbformat_minor": 2
}
